{
  "nbformat": 4,
  "nbformat_minor": 0,
  "metadata": {
    "colab": {
      "provenance": [],
      "authorship_tag": "ABX9TyPH48R+XpX1xp3lFXY/KZCy",
      "include_colab_link": true
    },
    "kernelspec": {
      "name": "python3",
      "display_name": "Python 3"
    },
    "language_info": {
      "name": "python"
    }
  },
  "cells": [
    {
      "cell_type": "markdown",
      "metadata": {
        "id": "view-in-github",
        "colab_type": "text"
      },
      "source": [
        "<a href=\"https://colab.research.google.com/github/varshith302/red/blob/main/aiml_lab_2.ipynb\" target=\"_parent\"><img src=\"https://colab.research.google.com/assets/colab-badge.svg\" alt=\"Open In Colab\"/></a>"
      ]
    },
    {
      "cell_type": "code",
      "execution_count": null,
      "metadata": {
        "id": "uRDDwgNN_Hiz"
      },
      "outputs": [],
      "source": [
        "from queue import Queue\n",
        "graph = {\n",
        "    '0': [1, 2, 3],\n",
        "    '1': [0, 2],\n",
        "    '2': [1,3,5],\n",
        "    '3': [0,2,4],\n",
        "    '4': [3,5,7],\n",
        "    '5': [2,4,6,7],\n",
        "    '6': [5,7],\n",
        "    '7': [],\n",
        "}\n",
        "print(\"The adjacency list representing the graph is: \")\n",
        "print(graph)\n",
        "def bfs(graph, source):\n",
        "  Q=Queue()\n",
        "  visited_vertices = set()\n",
        "  Q.put(source)\n",
        "  visited_vertices.update({source})\n",
        "  while not Q.empty():\n",
        "    vertex = Q.get()\n",
        "    print(vertex , end=\"--->\")\n",
        "    for u in graph[vertex]:\n",
        "      if u not in visited_vertices:\n",
        "        Q.put(u)\n",
        "        visited_vertices.update({u})\n",
        "print(\"BFS Traversal OF GRAPH WITH SOURCE 1 is :\")\n",
        "bfs(graph, 1)"
      ]
    }
  ]
}