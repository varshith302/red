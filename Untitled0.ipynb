{
  "nbformat": 4,
  "nbformat_minor": 0,
  "metadata": {
    "colab": {
      "provenance": [],
      "toc_visible": true,
      "authorship_tag": "ABX9TyMkH3p2g4hRHuqzUQ5RCWpG",
      "include_colab_link": true
    },
    "kernelspec": {
      "name": "python3",
      "display_name": "Python 3"
    },
    "language_info": {
      "name": "python"
    }
  },
  "cells": [
    {
      "cell_type": "markdown",
      "metadata": {
        "id": "view-in-github",
        "colab_type": "text"
      },
      "source": [
        "<a href=\"https://colab.research.google.com/github/varshith302/red/blob/main/Untitled0.ipynb\" target=\"_parent\"><img src=\"https://colab.research.google.com/assets/colab-badge.svg\" alt=\"Open In Colab\"/></a>"
      ]
    },
    {
      "cell_type": "code",
      "source": [
        "\n",
        "\n",
        "# For integers\n",
        "print(type(1))\n",
        "\n",
        "# For floating-point numbers\n",
        "print(type(2.5))\n",
        "\n",
        "# For strings\n",
        "print(type(\"Hello\"))\n",
        "\n",
        "# For lists\n",
        "print(type([1, 2, 3]))\n",
        "\n",
        "# For tuples\n",
        "print(type((1, 2, 3)))\n",
        "\n",
        "# For dictionaries\n",
        "print(type({'name': 'sri' ,'age': 12}))\n",
        "\n",
        "# For booleans\n",
        "print(type(True))\n"
      ],
      "metadata": {
        "colab": {
          "base_uri": "https://localhost:8080/"
        },
        "id": "IBIICW8fsnux",
        "outputId": "ff08f41f-7fe2-4f25-ce82-e1c7364ec889"
      },
      "execution_count": 14,
      "outputs": [
        {
          "output_type": "stream",
          "name": "stdout",
          "text": [
            "<class 'int'>\n",
            "<class 'float'>\n",
            "<class 'str'>\n",
            "<class 'list'>\n",
            "<class 'tuple'>\n",
            "<class 'dict'>\n",
            "<class 'bool'>\n"
          ]
        }
      ]
    }
  ]
}