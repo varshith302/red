{
  "nbformat": 4,
  "nbformat_minor": 0,
  "metadata": {
    "colab": {
      "provenance": [],
      "authorship_tag": "ABX9TyNcaPvlgMe1mTMOde1M6P7f",
      "include_colab_link": true
    },
    "kernelspec": {
      "name": "python3",
      "display_name": "Python 3"
    },
    "language_info": {
      "name": "python"
    }
  },
  "cells": [
    {
      "cell_type": "markdown",
      "metadata": {
        "id": "view-in-github",
        "colab_type": "text"
      },
      "source": [
        "<a href=\"https://colab.research.google.com/github/varshith302/red/blob/main/Untitled2.ipynb\" target=\"_parent\"><img src=\"https://colab.research.google.com/assets/colab-badge.svg\" alt=\"Open In Colab\"/></a>"
      ]
    },
    {
      "cell_type": "code",
      "execution_count": 11,
      "metadata": {
        "colab": {
          "base_uri": "https://localhost:8080/"
        },
        "id": "VlWUX9zljrD4",
        "outputId": "880c515b-b709-4b6a-cde1-f00fd8ef38b8"
      },
      "outputs": [
        {
          "output_type": "stream",
          "name": "stdout",
          "text": [
            "p= [1, 2, 3, 4, 5]\n",
            "q= [10, 20, 30, 40, 50]\n",
            "Type of List-p <class 'list'>\n",
            "Type of List-q <class 'list'>\n",
            "[1 2 3 4 5]\n",
            "[10 20 30 40 50]\n",
            "Type of array1 <class 'numpy.ndarray'>\n",
            "Type of array2 <class 'numpy.ndarray'>\n",
            "Multiplication [ 10  40  90 160 250]\n",
            "Division [0.1 0.1 0.1 0.1 0.1]\n",
            "poweroff [ 1  4  9 16 25]\n",
            "textoutput:- Addition of two arrays:[11 22 33 44 55]\n"
          ]
        }
      ],
      "source": [
        "import numpy as np\n",
        "p = [1,2,3,4,5]\n",
        "q = [10,20,30,40,50]\n",
        "print(\"p=\",p)\n",
        "print(\"q=\",q)\n",
        "print(\"Type of List-p\",type(p))\n",
        "print(\"Type of List-q\",type(q))\n",
        "\n",
        "array1 = np.array(p)\n",
        "array2 = np.array(q)\n",
        "print(array1)\n",
        "print(array2)\n",
        "\n",
        "print(\"Type of array1\",type(array1))\n",
        "print(\"Type of array2\",type(array2))\n",
        "\n",
        "mul=array1 * array2\n",
        "div=array1 / array2\n",
        "poweroff = np.power(array1, 2)\n",
        "print(\"Multiplication\",mul)\n",
        "print(\"Division\",div)\n",
        "print(\"poweroff\",poweroff)\n",
        "\n",
        "textoutput=f\"Addition of two arrays:{array1+array2}\"\n",
        "print(\"textoutput:-\",textoutput)\n",
        "\n"
      ]
    }
  ]
}